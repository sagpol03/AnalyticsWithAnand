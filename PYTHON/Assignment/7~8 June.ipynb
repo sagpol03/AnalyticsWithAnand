{
 "cells": [
  {
   "cell_type": "code",
   "execution_count": 11,
   "id": "7e49e70a-7220-4621-9ca9-a4816446c058",
   "metadata": {},
   "outputs": [],
   "source": [
    "import keyword"
   ]
  },
  {
   "cell_type": "code",
   "execution_count": 13,
   "id": "3bb9008b-fa0c-425e-9958-91f0de962db3",
   "metadata": {},
   "outputs": [
    {
     "name": "stdout",
     "output_type": "stream",
     "text": [
      "<module 'keyword' from 'C:\\\\Users\\\\user\\\\anaconda3\\\\Lib\\\\keyword.py'>\n"
     ]
    }
   ],
   "source": [
    "print (keyword)"
   ]
  },
  {
   "cell_type": "code",
   "execution_count": 14,
   "id": "c108ac57-6df3-4d83-8b9f-d5fa45446268",
   "metadata": {},
   "outputs": [
    {
     "data": {
      "text/plain": [
       "<module 'keyword' from 'C:\\\\Users\\\\user\\\\anaconda3\\\\Lib\\\\keyword.py'>"
      ]
     },
     "execution_count": 14,
     "metadata": {},
     "output_type": "execute_result"
    }
   ],
   "source": [
    "keyword"
   ]
  },
  {
   "cell_type": "code",
   "execution_count": 15,
   "id": "78837570-0185-4797-8526-9df488eec948",
   "metadata": {},
   "outputs": [
    {
     "data": {
      "text/plain": [
       "int"
      ]
     },
     "execution_count": 15,
     "metadata": {},
     "output_type": "execute_result"
    }
   ],
   "source": [
    "type(90)"
   ]
  },
  {
   "cell_type": "code",
   "execution_count": 16,
   "id": "30faa43c-4e81-470f-8bd8-69c0e5632fa2",
   "metadata": {},
   "outputs": [
    {
     "data": {
      "text/plain": [
       "5"
      ]
     },
     "execution_count": 16,
     "metadata": {},
     "output_type": "execute_result"
    }
   ],
   "source": [
    "2+3"
   ]
  },
  {
   "cell_type": "code",
   "execution_count": 17,
   "id": "0a097d26-458e-4994-ba68-ab4173d32c4a",
   "metadata": {},
   "outputs": [],
   "source": [
    "a=2+3"
   ]
  },
  {
   "cell_type": "code",
   "execution_count": 18,
   "id": "4cc781bb-8527-402f-9bc2-d2a870108cf4",
   "metadata": {},
   "outputs": [
    {
     "data": {
      "text/plain": [
       "5"
      ]
     },
     "execution_count": 18,
     "metadata": {},
     "output_type": "execute_result"
    }
   ],
   "source": [
    "a"
   ]
  },
  {
   "cell_type": "code",
   "execution_count": 19,
   "id": "701bb79a-af62-4557-ae58-d74be12b1711",
   "metadata": {},
   "outputs": [
    {
     "data": {
      "text/plain": [
       "int"
      ]
     },
     "execution_count": 19,
     "metadata": {},
     "output_type": "execute_result"
    }
   ],
   "source": [
    "type(a)"
   ]
  },
  {
   "cell_type": "code",
   "execution_count": 22,
   "id": "7460ab4e-a8d3-4167-abca-9482a1cab932",
   "metadata": {},
   "outputs": [
    {
     "data": {
      "text/plain": [
       "['False',\n",
       " 'None',\n",
       " 'True',\n",
       " 'and',\n",
       " 'as',\n",
       " 'assert',\n",
       " 'async',\n",
       " 'await',\n",
       " 'break',\n",
       " 'class',\n",
       " 'continue',\n",
       " 'def',\n",
       " 'del',\n",
       " 'elif',\n",
       " 'else',\n",
       " 'except',\n",
       " 'finally',\n",
       " 'for',\n",
       " 'from',\n",
       " 'global',\n",
       " 'if',\n",
       " 'import',\n",
       " 'in',\n",
       " 'is',\n",
       " 'lambda',\n",
       " 'nonlocal',\n",
       " 'not',\n",
       " 'or',\n",
       " 'pass',\n",
       " 'raise',\n",
       " 'return',\n",
       " 'try',\n",
       " 'while',\n",
       " 'with',\n",
       " 'yield']"
      ]
     },
     "execution_count": 22,
     "metadata": {},
     "output_type": "execute_result"
    }
   ],
   "source": [
    "keyword.kwlist"
   ]
  },
  {
   "cell_type": "code",
   "execution_count": 24,
   "id": "0a294a55-c17b-4a1d-b329-191143656722",
   "metadata": {},
   "outputs": [],
   "source": [
    "personal_Deatils = {\"Name\": \"Sagar\",\"Grade\":9,\"Marks\":60}"
   ]
  },
  {
   "cell_type": "code",
   "execution_count": 28,
   "id": "5a7174cf-5f92-45fb-ab8a-f2ae279774e6",
   "metadata": {},
   "outputs": [
    {
     "data": {
      "text/plain": [
       "dict"
      ]
     },
     "execution_count": 28,
     "metadata": {},
     "output_type": "execute_result"
    }
   ],
   "source": [
    "type(personal_Deatils)"
   ]
  },
  {
   "cell_type": "code",
   "execution_count": 31,
   "id": "90ea25c2-1dfb-42d0-a9f0-c71516ae0847",
   "metadata": {},
   "outputs": [],
   "source": [
    "c={5,2,1,4,4}"
   ]
  },
  {
   "cell_type": "code",
   "execution_count": 32,
   "id": "cd7818a3-0e62-4dcb-916d-5dfce7bede18",
   "metadata": {},
   "outputs": [
    {
     "data": {
      "text/plain": [
       "set"
      ]
     },
     "execution_count": 32,
     "metadata": {},
     "output_type": "execute_result"
    }
   ],
   "source": [
    "type(c)"
   ]
  },
  {
   "cell_type": "code",
   "execution_count": 33,
   "id": "fd253e58-40dc-476d-959e-7e9385ab2bdc",
   "metadata": {},
   "outputs": [
    {
     "data": {
      "text/plain": [
       "{1, 2, 4, 5}"
      ]
     },
     "execution_count": 33,
     "metadata": {},
     "output_type": "execute_result"
    }
   ],
   "source": [
    "c"
   ]
  },
  {
   "cell_type": "code",
   "execution_count": 34,
   "id": "279c5584-dd84-4a3f-9d3e-d70565b8d019",
   "metadata": {},
   "outputs": [],
   "source": [
    "num1=7\n",
    "num2=5"
   ]
  },
  {
   "cell_type": "code",
   "execution_count": 35,
   "id": "68ed2356-05ca-4c55-b3cf-afa67e3d106b",
   "metadata": {},
   "outputs": [
    {
     "data": {
      "text/plain": [
       "12"
      ]
     },
     "execution_count": 35,
     "metadata": {},
     "output_type": "execute_result"
    }
   ],
   "source": [
    "num1+num2"
   ]
  },
  {
   "cell_type": "code",
   "execution_count": 36,
   "id": "2ed940c8-b844-478d-90c0-24088b5953b8",
   "metadata": {},
   "outputs": [
    {
     "data": {
      "text/plain": [
       "2"
      ]
     },
     "execution_count": 36,
     "metadata": {},
     "output_type": "execute_result"
    }
   ],
   "source": [
    "num1-num2"
   ]
  },
  {
   "cell_type": "code",
   "execution_count": 37,
   "id": "7bd56152-7ecb-48a0-b154-2d1480421744",
   "metadata": {},
   "outputs": [
    {
     "data": {
      "text/plain": [
       "1.4"
      ]
     },
     "execution_count": 37,
     "metadata": {},
     "output_type": "execute_result"
    }
   ],
   "source": [
    "num1/num2"
   ]
  },
  {
   "cell_type": "code",
   "execution_count": 4,
   "id": "3db8ac22-68e7-4ca9-8835-b585de5e6b62",
   "metadata": {},
   "outputs": [],
   "source": [
    "age=5\n",
    "is_student=False \n",
    "is_member= True\n",
    "movies_watched=3"
   ]
  },
  {
   "cell_type": "markdown",
   "id": "562dcaa5-fdab-41b6-a416-c9dc7f6698b9",
   "metadata": {},
   "source": [
    "--->is person is eligible for the discounted movie ticket \n",
    "1)person should be atleast 10 yrs old and \n",
    "2)No student or income <2000\n",
    "3)member of thetre club and watched more than 2 movie ticked "
   ]
  },
  {
   "cell_type": "code",
   "execution_count": 5,
   "id": "1125ef33-da81-488f-80a4-929a586f611a",
   "metadata": {},
   "outputs": [
    {
     "data": {
      "text/plain": [
       "False"
      ]
     },
     "execution_count": 5,
     "metadata": {},
     "output_type": "execute_result"
    }
   ],
   "source": [
    "(age>=10) and (is_student!=True or income<2000) and(is_member==True and movies_watched>2)"
   ]
  },
  {
   "cell_type": "code",
   "execution_count": 38,
   "id": "26ee83db-5c33-45e3-9f0f-30191757c90f",
   "metadata": {},
   "outputs": [
    {
     "data": {
      "text/plain": [
       "1"
      ]
     },
     "execution_count": 38,
     "metadata": {},
     "output_type": "execute_result"
    }
   ],
   "source": [
    "num1//num2"
   ]
  },
  {
   "cell_type": "code",
   "execution_count": 39,
   "id": "7a07282d-e16d-4e32-aa48-07bcdd516aa3",
   "metadata": {},
   "outputs": [
    {
     "data": {
      "text/plain": [
       "2"
      ]
     },
     "execution_count": 39,
     "metadata": {},
     "output_type": "execute_result"
    }
   ],
   "source": [
    "num1%num2"
   ]
  },
  {
   "cell_type": "code",
   "execution_count": 40,
   "id": "cab9eb62-a9d8-43ae-89ec-741168598226",
   "metadata": {},
   "outputs": [
    {
     "data": {
      "text/plain": [
       "16807"
      ]
     },
     "execution_count": 40,
     "metadata": {},
     "output_type": "execute_result"
    }
   ],
   "source": [
    "num1**num2"
   ]
  },
  {
   "cell_type": "code",
   "execution_count": 41,
   "id": "a713f02b-1747-4494-93ab-30f3521b007a",
   "metadata": {},
   "outputs": [],
   "source": [
    "x=5"
   ]
  },
  {
   "cell_type": "code",
   "execution_count": 47,
   "id": "8a441568-68d5-439e-9c00-2acd0a30a378",
   "metadata": {},
   "outputs": [],
   "source": [
    "x+=5"
   ]
  },
  {
   "cell_type": "code",
   "execution_count": 48,
   "id": "923c6d45-6d65-4665-8c8c-2f0c8d6c583a",
   "metadata": {},
   "outputs": [
    {
     "data": {
      "text/plain": [
       "25"
      ]
     },
     "execution_count": 48,
     "metadata": {},
     "output_type": "execute_result"
    }
   ],
   "source": [
    "x"
   ]
  },
  {
   "cell_type": "code",
   "execution_count": 49,
   "id": "e225a801-d3d1-460c-828b-77481dfccf95",
   "metadata": {},
   "outputs": [],
   "source": [
    "x/=3"
   ]
  },
  {
   "cell_type": "code",
   "execution_count": 50,
   "id": "fd65bb73-69d2-44c6-a8bf-9df5cdfd222c",
   "metadata": {},
   "outputs": [
    {
     "data": {
      "text/plain": [
       "8.333333333333334"
      ]
     },
     "execution_count": 50,
     "metadata": {},
     "output_type": "execute_result"
    }
   ],
   "source": [
    "x"
   ]
  },
  {
   "cell_type": "code",
   "execution_count": 51,
   "id": "35489392-34ba-498b-960f-7d0e2b3cd5ff",
   "metadata": {},
   "outputs": [],
   "source": [
    "y=10"
   ]
  },
  {
   "cell_type": "code",
   "execution_count": 52,
   "id": "6adc39fd-70bd-4110-b9bb-b752a31b95a1",
   "metadata": {},
   "outputs": [],
   "source": [
    "y%=3"
   ]
  },
  {
   "cell_type": "code",
   "execution_count": 53,
   "id": "f8a6d23f-4935-4f28-a2e7-a86c50312a45",
   "metadata": {},
   "outputs": [
    {
     "data": {
      "text/plain": [
       "1"
      ]
     },
     "execution_count": 53,
     "metadata": {},
     "output_type": "execute_result"
    }
   ],
   "source": [
    "y"
   ]
  },
  {
   "cell_type": "code",
   "execution_count": 56,
   "id": "d2b07865-3695-43ba-a6af-8cb6960fac50",
   "metadata": {},
   "outputs": [
    {
     "data": {
      "text/plain": [
       "True"
      ]
     },
     "execution_count": 56,
     "metadata": {},
     "output_type": "execute_result"
    }
   ],
   "source": [
    "5>2 or 1<4 and 8==9"
   ]
  },
  {
   "cell_type": "markdown",
   "id": "378afa5c-c06a-4473-b61e-33c0de3ae31e",
   "metadata": {},
   "source": [
    "--8th June Identity Operator is , is not"
   ]
  },
  {
   "cell_type": "code",
   "execution_count": 6,
   "id": "884eeb85-5ccc-4e15-9d87-7f0ef84d081d",
   "metadata": {},
   "outputs": [],
   "source": [
    "x=10\n",
    "y=12 "
   ]
  },
  {
   "cell_type": "code",
   "execution_count": 9,
   "id": "0c812b7a-3f96-4657-ba79-162511bfe3a2",
   "metadata": {},
   "outputs": [
    {
     "data": {
      "text/plain": [
       "False"
      ]
     },
     "execution_count": 9,
     "metadata": {},
     "output_type": "execute_result"
    }
   ],
   "source": [
    "x is y"
   ]
  },
  {
   "cell_type": "code",
   "execution_count": 8,
   "id": "8deb47a4-ad6b-46e0-b6e2-9a0bda4c428b",
   "metadata": {},
   "outputs": [
    {
     "data": {
      "text/plain": [
       "True"
      ]
     },
     "execution_count": 8,
     "metadata": {},
     "output_type": "execute_result"
    }
   ],
   "source": [
    "x is x"
   ]
  },
  {
   "cell_type": "code",
   "execution_count": 10,
   "id": "6abef7f9-f0f2-49fa-b6b6-33e75e8d1e10",
   "metadata": {},
   "outputs": [
    {
     "data": {
      "text/plain": [
       "True"
      ]
     },
     "execution_count": 10,
     "metadata": {},
     "output_type": "execute_result"
    }
   ],
   "source": [
    "x is not y"
   ]
  },
  {
   "cell_type": "code",
   "execution_count": 11,
   "id": "25f47980-0662-4e15-83a2-74769323c054",
   "metadata": {},
   "outputs": [],
   "source": [
    "x=[1,2]\n",
    "y=[1,2]"
   ]
  },
  {
   "cell_type": "code",
   "execution_count": 12,
   "id": "425004af-09fa-4fc3-a846-3c6618a95f32",
   "metadata": {},
   "outputs": [
    {
     "data": {
      "text/plain": [
       "False"
      ]
     },
     "execution_count": 12,
     "metadata": {},
     "output_type": "execute_result"
    }
   ],
   "source": [
    "x is y"
   ]
  },
  {
   "cell_type": "code",
   "execution_count": 13,
   "id": "46225b5e-3da3-4e0f-bc3b-e3df5f4e52c8",
   "metadata": {},
   "outputs": [
    {
     "data": {
      "text/plain": [
       "439118253184"
      ]
     },
     "execution_count": 13,
     "metadata": {},
     "output_type": "execute_result"
    }
   ],
   "source": [
    "id(x)"
   ]
  },
  {
   "cell_type": "code",
   "execution_count": 14,
   "id": "4c6b15af-8ec1-456b-a2a5-b722dbfbe1c1",
   "metadata": {},
   "outputs": [
    {
     "data": {
      "text/plain": [
       "439118258560"
      ]
     },
     "execution_count": 14,
     "metadata": {},
     "output_type": "execute_result"
    }
   ],
   "source": [
    "id(y)"
   ]
  },
  {
   "cell_type": "markdown",
   "id": "caf19683-9314-4663-a99a-628f7d6ba141",
   "metadata": {},
   "source": [
    "-- In operaotor "
   ]
  },
  {
   "cell_type": "code",
   "execution_count": 15,
   "id": "5cc3e019-4500-49fc-b6d4-6e6a8ce00ef2",
   "metadata": {},
   "outputs": [],
   "source": [
    "fruit=\"Apple\""
   ]
  },
  {
   "cell_type": "code",
   "execution_count": 16,
   "id": "e9dfd1ee-208d-46ad-b1db-42ba547dc9b8",
   "metadata": {},
   "outputs": [
    {
     "data": {
      "text/plain": [
       "True"
      ]
     },
     "execution_count": 16,
     "metadata": {},
     "output_type": "execute_result"
    }
   ],
   "source": [
    "\"l\" in fruit"
   ]
  },
  {
   "cell_type": "code",
   "execution_count": 17,
   "id": "9548d5db-72f4-4536-93af-5fe446a47373",
   "metadata": {},
   "outputs": [],
   "source": [
    "l=[\"Sagar\",\"Pol\",\"Prachi\"]"
   ]
  },
  {
   "cell_type": "code",
   "execution_count": 18,
   "id": "38e29118-9cd0-41b3-a893-010a242ccceb",
   "metadata": {},
   "outputs": [
    {
     "data": {
      "text/plain": [
       "False"
      ]
     },
     "execution_count": 18,
     "metadata": {},
     "output_type": "execute_result"
    }
   ],
   "source": [
    "\"sagar\" in l"
   ]
  },
  {
   "cell_type": "code",
   "execution_count": null,
   "id": "db52c3ba-6cfa-4719-91a3-045869ce58bb",
   "metadata": {},
   "outputs": [],
   "source": [
    "--> Bitwise operation for AND , OR , not [and = & , or =|, not : ~] "
   ]
  },
  {
   "cell_type": "code",
   "execution_count": 19,
   "id": "7026be3f-ea84-464d-b433-45060cf255bd",
   "metadata": {},
   "outputs": [
    {
     "data": {
      "text/plain": [
       "2"
      ]
     },
     "execution_count": 19,
     "metadata": {},
     "output_type": "execute_result"
    }
   ],
   "source": [
    "10&7"
   ]
  },
  {
   "cell_type": "code",
   "execution_count": 20,
   "id": "cad68aff-4417-4b85-8be1-436000f435de",
   "metadata": {},
   "outputs": [
    {
     "data": {
      "text/plain": [
       "15"
      ]
     },
     "execution_count": 20,
     "metadata": {},
     "output_type": "execute_result"
    }
   ],
   "source": [
    "10|7"
   ]
  },
  {
   "cell_type": "code",
   "execution_count": 21,
   "id": "82c20177-1fd3-408a-be3c-9e242da58d46",
   "metadata": {},
   "outputs": [
    {
     "data": {
      "text/plain": [
       "-11"
      ]
     },
     "execution_count": 21,
     "metadata": {},
     "output_type": "execute_result"
    }
   ],
   "source": [
    "~10"
   ]
  },
  {
   "cell_type": "code",
   "execution_count": 22,
   "id": "a1324632-394f-4611-b2d5-d49d13b1f991",
   "metadata": {},
   "outputs": [
    {
     "data": {
      "text/plain": [
       "-53"
      ]
     },
     "execution_count": 22,
     "metadata": {},
     "output_type": "execute_result"
    }
   ],
   "source": [
    "~52"
   ]
  },
  {
   "cell_type": "code",
   "execution_count": 23,
   "id": "4ddea77e-bb3a-458b-b1aa-ff06151220be",
   "metadata": {},
   "outputs": [
    {
     "data": {
      "text/plain": [
       "22"
      ]
     },
     "execution_count": 23,
     "metadata": {},
     "output_type": "execute_result"
    }
   ],
   "source": [
    "~-23"
   ]
  },
  {
   "cell_type": "code",
   "execution_count": null,
   "id": "6af51eb1-1e54-4a7b-8a00-410a9bcfbad6",
   "metadata": {},
   "outputs": [],
   "source": [
    "-- Type casting > convert one data type to another "
   ]
  },
  {
   "cell_type": "code",
   "execution_count": 24,
   "id": "66c91744-3825-462f-a372-1bb708878a19",
   "metadata": {},
   "outputs": [],
   "source": [
    "a=10\n",
    "b=5.5"
   ]
  },
  {
   "cell_type": "code",
   "execution_count": 25,
   "id": "b7322f85-8640-4b10-8ea7-ee45140e08cc",
   "metadata": {},
   "outputs": [
    {
     "data": {
      "text/plain": [
       "15.5"
      ]
     },
     "execution_count": 25,
     "metadata": {},
     "output_type": "execute_result"
    }
   ],
   "source": [
    "a+b"
   ]
  },
  {
   "cell_type": "code",
   "execution_count": 26,
   "id": "12384aff-41d4-41c8-8f03-3bd40f194d4c",
   "metadata": {},
   "outputs": [],
   "source": [
    "a=10.5\n",
    "b=5.5"
   ]
  },
  {
   "cell_type": "code",
   "execution_count": 27,
   "id": "b7e9b811-d924-4065-8ae4-13535f1e86c6",
   "metadata": {},
   "outputs": [
    {
     "data": {
      "text/plain": [
       "16.0"
      ]
     },
     "execution_count": 27,
     "metadata": {},
     "output_type": "execute_result"
    }
   ],
   "source": [
    "a+b"
   ]
  },
  {
   "cell_type": "code",
   "execution_count": 28,
   "id": "ec0618bd-68b5-453f-8e01-2d6a6f20e721",
   "metadata": {},
   "outputs": [
    {
     "data": {
      "text/plain": [
       "15.5"
      ]
     },
     "execution_count": 28,
     "metadata": {},
     "output_type": "execute_result"
    }
   ],
   "source": [
    "float(a)+int(b)"
   ]
  },
  {
   "cell_type": "code",
   "execution_count": 29,
   "id": "149d0559-b749-4430-8477-af1bd7c332b4",
   "metadata": {},
   "outputs": [],
   "source": [
    "x=9.5\n",
    "y=int(x)"
   ]
  },
  {
   "cell_type": "code",
   "execution_count": 30,
   "id": "b8492959-e26e-499d-8b56-a9d85751b826",
   "metadata": {},
   "outputs": [
    {
     "data": {
      "text/plain": [
       "9"
      ]
     },
     "execution_count": 30,
     "metadata": {},
     "output_type": "execute_result"
    }
   ],
   "source": [
    "y"
   ]
  },
  {
   "cell_type": "code",
   "execution_count": 31,
   "id": "188f8d8d-d5b4-4478-a865-78a2bbad7b5e",
   "metadata": {},
   "outputs": [],
   "source": [
    "x=100"
   ]
  },
  {
   "cell_type": "code",
   "execution_count": 32,
   "id": "6df81823-f0a7-4c9a-95cd-c588bda48d9c",
   "metadata": {},
   "outputs": [
    {
     "data": {
      "text/plain": [
       "int"
      ]
     },
     "execution_count": 32,
     "metadata": {},
     "output_type": "execute_result"
    }
   ],
   "source": [
    "type(x)"
   ]
  },
  {
   "cell_type": "code",
   "execution_count": 33,
   "id": "c21b322b-438c-41f4-b6f6-391da18e8cfd",
   "metadata": {},
   "outputs": [],
   "source": [
    "y=str(x)"
   ]
  },
  {
   "cell_type": "code",
   "execution_count": 34,
   "id": "b54b9488-1ee2-4975-ad3f-664d7a79fa83",
   "metadata": {},
   "outputs": [
    {
     "data": {
      "text/plain": [
       "str"
      ]
     },
     "execution_count": 34,
     "metadata": {},
     "output_type": "execute_result"
    }
   ],
   "source": [
    "type(y)"
   ]
  },
  {
   "cell_type": "code",
   "execution_count": 35,
   "id": "6f751922-af7c-4af3-a1f5-50303d2b255a",
   "metadata": {},
   "outputs": [
    {
     "data": {
      "text/plain": [
       "'100'"
      ]
     },
     "execution_count": 35,
     "metadata": {},
     "output_type": "execute_result"
    }
   ],
   "source": [
    "y"
   ]
  },
  {
   "cell_type": "code",
   "execution_count": 36,
   "id": "22c9c529-d899-4b35-9847-068937355f1d",
   "metadata": {},
   "outputs": [],
   "source": [
    "x=\"sagar\""
   ]
  },
  {
   "cell_type": "code",
   "execution_count": 37,
   "id": "4b077b56-2acb-4dba-b466-42c9fa9e16cb",
   "metadata": {},
   "outputs": [
    {
     "ename": "ValueError",
     "evalue": "invalid literal for int() with base 10: 'sagar'",
     "output_type": "error",
     "traceback": [
      "\u001b[1;31m---------------------------------------------------------------------------\u001b[0m",
      "\u001b[1;31mValueError\u001b[0m                                Traceback (most recent call last)",
      "Cell \u001b[1;32mIn[37], line 1\u001b[0m\n\u001b[1;32m----> 1\u001b[0m \u001b[38;5;28mint\u001b[39m(x)\n",
      "\u001b[1;31mValueError\u001b[0m: invalid literal for int() with base 10: 'sagar'"
     ]
    }
   ],
   "source": [
    "int(x)"
   ]
  },
  {
   "cell_type": "code",
   "execution_count": 38,
   "id": "b1a64caf-4e38-4b81-a791-efad879285ab",
   "metadata": {},
   "outputs": [],
   "source": [
    "x=\"100\""
   ]
  },
  {
   "cell_type": "code",
   "execution_count": 39,
   "id": "2904a48e-05ed-4479-a656-93cf5a903017",
   "metadata": {},
   "outputs": [
    {
     "data": {
      "text/plain": [
       "100"
      ]
     },
     "execution_count": 39,
     "metadata": {},
     "output_type": "execute_result"
    }
   ],
   "source": [
    "int(x)"
   ]
  },
  {
   "cell_type": "code",
   "execution_count": 40,
   "id": "3426f30a-48ee-4a07-b434-6bb57b1ac752",
   "metadata": {},
   "outputs": [],
   "source": [
    "x=\"3.14\""
   ]
  },
  {
   "cell_type": "code",
   "execution_count": 41,
   "id": "712fe286-6d5a-4c67-b228-2fb8768d9ebd",
   "metadata": {},
   "outputs": [],
   "source": [
    "y=float(x)"
   ]
  },
  {
   "cell_type": "code",
   "execution_count": 42,
   "id": "61ad28c0-73f0-4114-9174-4279d7047c50",
   "metadata": {},
   "outputs": [
    {
     "data": {
      "text/plain": [
       "3.14"
      ]
     },
     "execution_count": 42,
     "metadata": {},
     "output_type": "execute_result"
    }
   ],
   "source": [
    "y"
   ]
  },
  {
   "cell_type": "code",
   "execution_count": 43,
   "id": "18a7a91d-02b2-4a0b-a352-306d75bfc4ea",
   "metadata": {},
   "outputs": [
    {
     "data": {
      "text/plain": [
       "float"
      ]
     },
     "execution_count": 43,
     "metadata": {},
     "output_type": "execute_result"
    }
   ],
   "source": [
    "type(y)"
   ]
  },
  {
   "cell_type": "code",
   "execution_count": 44,
   "id": "02882860-ad18-4a0f-ac3b-d6ade6bbd572",
   "metadata": {},
   "outputs": [],
   "source": [
    "x=0"
   ]
  },
  {
   "cell_type": "code",
   "execution_count": 45,
   "id": "aecc2c59-5faa-4b2e-8d18-15c6ded18a52",
   "metadata": {},
   "outputs": [
    {
     "data": {
      "text/plain": [
       "False"
      ]
     },
     "execution_count": 45,
     "metadata": {},
     "output_type": "execute_result"
    }
   ],
   "source": [
    "bool(x)"
   ]
  },
  {
   "cell_type": "code",
   "execution_count": 46,
   "id": "e9edcfe7-28f2-49e6-8cb3-582776cc0cf4",
   "metadata": {},
   "outputs": [],
   "source": [
    "y=1"
   ]
  },
  {
   "cell_type": "code",
   "execution_count": 47,
   "id": "51933b59-3a7e-41c1-aaf6-ca9943f0f616",
   "metadata": {},
   "outputs": [
    {
     "data": {
      "text/plain": [
       "True"
      ]
     },
     "execution_count": 47,
     "metadata": {},
     "output_type": "execute_result"
    }
   ],
   "source": [
    "bool(y)"
   ]
  },
  {
   "cell_type": "code",
   "execution_count": 48,
   "id": "4c80e1c7-39f8-4462-82c7-b34f9890deab",
   "metadata": {},
   "outputs": [],
   "source": [
    "z=5"
   ]
  },
  {
   "cell_type": "code",
   "execution_count": 49,
   "id": "59c1f242-822a-4046-95f3-c9702c6e55bc",
   "metadata": {},
   "outputs": [
    {
     "data": {
      "text/plain": [
       "True"
      ]
     },
     "execution_count": 49,
     "metadata": {},
     "output_type": "execute_result"
    }
   ],
   "source": [
    "bool(z)"
   ]
  },
  {
   "cell_type": "code",
   "execution_count": 50,
   "id": "89fdd5eb-391a-4802-9f37-e193d4f3a9ce",
   "metadata": {},
   "outputs": [],
   "source": [
    "a=[1,2,3,43,45,2]"
   ]
  },
  {
   "cell_type": "code",
   "execution_count": 51,
   "id": "89be99d6-5009-45f7-9036-2400985ba215",
   "metadata": {},
   "outputs": [
    {
     "data": {
      "text/plain": [
       "list"
      ]
     },
     "execution_count": 51,
     "metadata": {},
     "output_type": "execute_result"
    }
   ],
   "source": [
    "type(a)"
   ]
  },
  {
   "cell_type": "code",
   "execution_count": 52,
   "id": "58a7f92e-0df9-4241-a64e-3d0d414f8e27",
   "metadata": {},
   "outputs": [],
   "source": [
    "b=set(a)"
   ]
  },
  {
   "cell_type": "code",
   "execution_count": 53,
   "id": "9f83b796-6e6a-41c6-bbb1-c08bd0550298",
   "metadata": {},
   "outputs": [
    {
     "data": {
      "text/plain": [
       "{1, 2, 3, 43, 45}"
      ]
     },
     "execution_count": 53,
     "metadata": {},
     "output_type": "execute_result"
    }
   ],
   "source": [
    "b"
   ]
  },
  {
   "cell_type": "code",
   "execution_count": 54,
   "id": "ca744a53-0f60-4d9d-a6cd-264b1e11fe56",
   "metadata": {},
   "outputs": [
    {
     "data": {
      "text/plain": [
       "set"
      ]
     },
     "execution_count": 54,
     "metadata": {},
     "output_type": "execute_result"
    }
   ],
   "source": [
    "type(b)"
   ]
  },
  {
   "cell_type": "code",
   "execution_count": 58,
   "id": "32dfca2a-9289-4418-9861-bfee3f02ffff",
   "metadata": {},
   "outputs": [],
   "source": [
    "age =\"18\""
   ]
  },
  {
   "cell_type": "code",
   "execution_count": 63,
   "id": "e57431b8-1d6b-4355-975d-38e540ba59f4",
   "metadata": {},
   "outputs": [
    {
     "name": "stdout",
     "output_type": "stream",
     "text": [
      "elligible\n"
     ]
    }
   ],
   "source": [
    "if int(age)>=18:\n",
    "       print(\"elligible\")"
   ]
  },
  {
   "cell_type": "code",
   "execution_count": 72,
   "id": "5f8c4e1e-8568-459d-a1ac-d3de30a9d915",
   "metadata": {},
   "outputs": [
    {
     "name": "stdout",
     "output_type": "stream",
     "text": [
      "hellow Word sagar\n"
     ]
    }
   ],
   "source": [
    "print(\"hellow\", end=\" \")\n",
    "print(\"Word\",end=\" \")\n",
    "print(\"sagar\")"
   ]
  },
  {
   "cell_type": "code",
   "execution_count": 66,
   "id": "ed7da124-b6b0-4df1-8fcb-a9e85911bdf7",
   "metadata": {},
   "outputs": [],
   "source": [
    "name =\"Sagar\"\n",
    "age=36\n",
    "standard =\"Graduation\""
   ]
  },
  {
   "cell_type": "code",
   "execution_count": 68,
   "id": "06012fef-3c76-4967-a38a-440c2ae81c34",
   "metadata": {},
   "outputs": [
    {
     "name": "stdout",
     "output_type": "stream",
     "text": [
      "My name is Sagar age is : 36 studying in : Graduation\n"
     ]
    }
   ],
   "source": [
    "print(\"My name is\" , name , \"age is\" ,\":\" ,age , \"studying in\", \":\" ,standard)"
   ]
  },
  {
   "cell_type": "code",
   "execution_count": 73,
   "id": "8aa06d5e-44ed-4749-aa74-019972bc58cc",
   "metadata": {},
   "outputs": [
    {
     "name": "stdout",
     "output_type": "stream",
     "text": [
      "Sagar \n",
      " 36\n"
     ]
    }
   ],
   "source": [
    "print(name, \"\\n\" , age)"
   ]
  },
  {
   "cell_type": "code",
   "execution_count": 76,
   "id": "2a4873d8-7d46-44d8-93a9-24437e14b603",
   "metadata": {},
   "outputs": [
    {
     "name": "stdout",
     "output_type": "stream",
     "text": [
      "my name is, \"sagar\"\n"
     ]
    }
   ],
   "source": [
    "print(\"my name is, \\\"sagar\\\"\")"
   ]
  },
  {
   "cell_type": "code",
   "execution_count": 85,
   "id": "7bf92bc2-d4e3-4805-8b37-9ef3aae422bf",
   "metadata": {},
   "outputs": [
    {
     "name": "stdout",
     "output_type": "stream",
     "text": [
      "\"Sagar\"\n"
     ]
    }
   ],
   "source": [
    "print(\"\\\"Sagar\\\"\")"
   ]
  },
  {
   "cell_type": "markdown",
   "id": "d86c35bd-b071-403e-b116-ee5029c28f5f",
   "metadata": {},
   "source": [
    "--> input"
   ]
  },
  {
   "cell_type": "code",
   "execution_count": null,
   "id": "ccb5cbac-10d8-4162-bbca-3a1e6314bc78",
   "metadata": {},
   "outputs": [],
   "source": [
    "name = input(\"Enter your name\")"
   ]
  },
  {
   "cell_type": "code",
   "execution_count": 1,
   "id": "f1df0ba9-bfb2-41e4-b246-60554a0f4af4",
   "metadata": {},
   "outputs": [
    {
     "ename": "NameError",
     "evalue": "name 'name' is not defined",
     "output_type": "error",
     "traceback": [
      "\u001b[1;31m---------------------------------------------------------------------------\u001b[0m",
      "\u001b[1;31mNameError\u001b[0m                                 Traceback (most recent call last)",
      "Cell \u001b[1;32mIn[1], line 1\u001b[0m\n\u001b[1;32m----> 1\u001b[0m \u001b[38;5;28mtype\u001b[39m(name)\n",
      "\u001b[1;31mNameError\u001b[0m: name 'name' is not defined"
     ]
    }
   ],
   "source": [
    "type(name) "
   ]
  },
  {
   "cell_type": "code",
   "execution_count": null,
   "id": "43556842-b2a7-4474-b6d6-a915bd903996",
   "metadata": {},
   "outputs": [],
   "source": []
  }
 ],
 "metadata": {
  "kernelspec": {
   "display_name": "Python 3 (ipykernel)",
   "language": "python",
   "name": "python3"
  },
  "language_info": {
   "codemirror_mode": {
    "name": "ipython",
    "version": 3
   },
   "file_extension": ".py",
   "mimetype": "text/x-python",
   "name": "python",
   "nbconvert_exporter": "python",
   "pygments_lexer": "ipython3",
   "version": "3.12.7"
  }
 },
 "nbformat": 4,
 "nbformat_minor": 5
}
